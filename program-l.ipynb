{
 "cells": [
  {
   "cell_type": "code",
   "execution_count": 1,
   "id": "3b67a75a-5147-4cf9-a367-469cce46b004",
   "metadata": {},
   "outputs": [],
   "source": [
    "import pandas as pd"
   ]
  },
  {
   "cell_type": "code",
   "execution_count": 2,
   "id": "f912ff35-b40b-41be-a99f-6a740d2d5b08",
   "metadata": {},
   "outputs": [
    {
     "data": {
      "text/plain": [
       "'/Users/2010y/opt/fall2022/program-l'"
      ]
     },
     "execution_count": 2,
     "metadata": {},
     "output_type": "execute_result"
    }
   ],
   "source": [
    "import os\n",
    "os.getcwd()"
   ]
  },
  {
   "cell_type": "code",
   "execution_count": 3,
   "id": "9628f44e-9c19-48da-a2cb-4535ad946a9b",
   "metadata": {},
   "outputs": [],
   "source": [
    "df=pd.read_feather('program_l.feather')"
   ]
  },
  {
   "cell_type": "code",
   "execution_count": 4,
   "id": "9c7e88c3-3c25-4502-93bc-256114f47d98",
   "metadata": {},
   "outputs": [
    {
     "data": {
      "text/html": [
       "<div>\n",
       "<style scoped>\n",
       "    .dataframe tbody tr th:only-of-type {\n",
       "        vertical-align: middle;\n",
       "    }\n",
       "\n",
       "    .dataframe tbody tr th {\n",
       "        vertical-align: top;\n",
       "    }\n",
       "\n",
       "    .dataframe thead th {\n",
       "        text-align: right;\n",
       "    }\n",
       "</style>\n",
       "<table border=\"1\" class=\"dataframe\">\n",
       "  <thead>\n",
       "    <tr style=\"text-align: right;\">\n",
       "      <th></th>\n",
       "      <th>subject</th>\n",
       "      <th>from</th>\n",
       "      <th>to</th>\n",
       "      <th>date</th>\n",
       "      <th>body</th>\n",
       "      <th>post_url</th>\n",
       "      <th>followup_url</th>\n",
       "      <th>references_url</th>\n",
       "      <th>related_posts</th>\n",
       "    </tr>\n",
       "  </thead>\n",
       "  <tbody>\n",
       "    <tr>\n",
       "      <th>0</th>\n",
       "      <td>Re: List Move - Completed? - program-l - FreeL...</td>\n",
       "      <td>\"George Bell\" &lt;george@xxxxxxxxxxxxxxxxxxx&gt;</td>\n",
       "      <td>&lt;program-l@xxxxxxxxxxxxxxxx&gt;, &lt;program-l@xxxxx...</td>\n",
       "      <td>Sun, 7 Nov 2004 17:42:11 -0000</td>\n",
       "      <td>Hi all,\\n\\nFurther to my earlier message today...</td>\n",
       "      <td>https://www.freelists.org/post/program-l/List-...</td>\n",
       "      <td>None</td>\n",
       "      <td>None</td>\n",
       "      <td>None</td>\n",
       "    </tr>\n",
       "  </tbody>\n",
       "</table>\n",
       "</div>"
      ],
      "text/plain": [
       "                                             subject  \\\n",
       "0  Re: List Move - Completed? - program-l - FreeL...   \n",
       "\n",
       "                                         from  \\\n",
       "0  \"George Bell\" <george@xxxxxxxxxxxxxxxxxxx>   \n",
       "\n",
       "                                                  to  \\\n",
       "0  <program-l@xxxxxxxxxxxxxxxx>, <program-l@xxxxx...   \n",
       "\n",
       "                             date  \\\n",
       "0  Sun, 7 Nov 2004 17:42:11 -0000   \n",
       "\n",
       "                                                body  \\\n",
       "0  Hi all,\\n\\nFurther to my earlier message today...   \n",
       "\n",
       "                                            post_url followup_url  \\\n",
       "0  https://www.freelists.org/post/program-l/List-...         None   \n",
       "\n",
       "  references_url related_posts  \n",
       "0           None          None  "
      ]
     },
     "execution_count": 4,
     "metadata": {},
     "output_type": "execute_result"
    }
   ],
   "source": [
    "df.head(1)"
   ]
  },
  {
   "cell_type": "code",
   "execution_count": 5,
   "id": "5522e570-7ba4-406d-ba29-cc7c5ca6eb48",
   "metadata": {},
   "outputs": [
    {
     "data": {
      "text/plain": [
       "0         Sun, 7 Nov 2004 17:42:11 -0000\n",
       "1         Mon, 8 Nov 2004 08:35:31 -0500\n",
       "2         Mon, 8 Nov 2004 15:55:27 -0000\n",
       "3         Mon, 8 Nov 2004 16:24:19 -0000\n",
       "4         Mon, 8 Nov 2004 16:25:08 -0000\n",
       "                      ...               \n",
       "55485    Fri, 31 Mar 2017 20:18:42 -0400\n",
       "55486    Fri, 31 Mar 2017 20:48:21 -0400\n",
       "55487    Wed, 15 Jun 2022 08:03:29 +0200\n",
       "55488    Sun, 24 Oct 2021 12:58:05 +0530\n",
       "55489    Tue, 29 Mar 2011 00:16:23 -0500\n",
       "Name: date, Length: 55490, dtype: object"
      ]
     },
     "execution_count": 5,
     "metadata": {},
     "output_type": "execute_result"
    }
   ],
   "source": [
    "df['date']"
   ]
  }
 ],
 "metadata": {
  "kernelspec": {
   "display_name": "Python 3 (ipykernel)",
   "language": "python",
   "name": "python3"
  },
  "language_info": {
   "codemirror_mode": {
    "name": "ipython",
    "version": 3
   },
   "file_extension": ".py",
   "mimetype": "text/x-python",
   "name": "python",
   "nbconvert_exporter": "python",
   "pygments_lexer": "ipython3",
   "version": "3.10.4"
  }
 },
 "nbformat": 4,
 "nbformat_minor": 5
}
