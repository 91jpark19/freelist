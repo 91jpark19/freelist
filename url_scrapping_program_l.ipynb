{
 "cells": [
  {
   "cell_type": "code",
   "execution_count": 1,
   "metadata": {},
   "outputs": [],
   "source": [
    "#https://www.freelists.org/archive/program-l/\n",
    "from datetime import datetime\n",
    "import time\n",
    "import urllib.request\n",
    "from bs4 import BeautifulSoup\n",
    "import re\n",
    "from bs4 import BeautifulSoup\n",
    "from urllib.request import Request, urlopen\n",
    "hdr = {'User-Agent': 'Mozilla/5.0'}\n",
    "root=\"https://www.freelists.org\"\n",
    "parent= \"/archive/program-l\""
   ]
  },
  {
   "cell_type": "code",
   "execution_count": 2,
   "metadata": {},
   "outputs": [],
   "source": [
    "def uncommon(list1:list, list2:list):\n",
    "    return list(set(list1)^set(list2))"
   ]
  },
  {
   "cell_type": "code",
   "execution_count": 3,
   "metadata": {},
   "outputs": [],
   "source": [
    "def get_body(soup:BeautifulSoup):\n",
    "    bodys=[]\n",
    "    body_string=[]\n",
    "    for i in soup.find_all(\"div\", \"container\")[1].find_all(['pre', 'tt']):\n",
    "        body_string.append(i.get_text().replace('\\n', ' '))\n",
    "    body=' '.join(body_string).strip()\n",
    "    asterisk_index=re.search(r'\\*\\*', body)\n",
    "    try:\n",
    "        asterisk_index=re.search(r'\\*\\*', body)\n",
    "        bodys.append(body[0:asterisk_index.start()])\n",
    "    except AttributeError:\n",
    "        bodys.append(body)\n",
    "    return bodys[0]"
   ]
  },
  {
   "cell_type": "code",
   "execution_count": 4,
   "metadata": {},
   "outputs": [],
   "source": [
    "#https://incomeplus.tistory.com/230\n",
    "def looping_lists(ys:int, ye:int, ms: int, me:int):\n",
    "    \"\"\"\n",
    "    ys: year start\n",
    "    ye: year end\n",
    "    ms: month start\n",
    "    me: month end\n",
    "    \"\"\"\n",
    "    year=range(ys, ye+1)\n",
    "    month=range(ms, me+1)\n",
    "    urllist=[]\n",
    "    for y in year:\n",
    "        for m in month:\n",
    "            try:\n",
    "                child=\"/\"+str(m)+\"-\"+str(y) #\"/11-2004\"\n",
    "                req=Request(root+parent+child, headers=hdr)\n",
    "                page=urlopen(req)\n",
    "                soup=BeautifulSoup(page)\n",
    "                for i in soup.select('a[href^=\"/post/program-l\"]'):\n",
    "                    urllist.append(root+i.attrs['href'])\n",
    "#                     break\n",
    "            except:\n",
    "                continue  \n",
    "#             break\n",
    "#         break\n",
    "    return urllist"
   ]
  },
  {
   "cell_type": "code",
   "execution_count": 5,
   "metadata": {},
   "outputs": [],
   "source": [
    "all_emails=looping_lists(2003, 2004, 1, 12)"
   ]
  },
  {
   "cell_type": "code",
   "execution_count": 6,
   "metadata": {
    "tags": []
   },
   "outputs": [],
   "source": [
    "book=[]\n",
    "num=0\n",
    "for link in all_emails:\n",
    "    req=Request(link, headers=hdr)\n",
    "    page=urlopen(req)\n",
    "    soup=BeautifulSoup(page)\n",
    "    all_meta=['To', 'From',  'Date']\n",
    "    all_info={}\n",
    "    for mushroom in soup.find(\"ul\", class_='list-unstyled').find_all('em'):\n",
    "        all_info[mushroom.get_text()]=mushroom.parent.get_text()\n",
    "    for pumpkin in uncommon(all_meta, list(all_info.keys())):\n",
    "        all_info[pumpkin]=pumpkin+':'+' missing value'\n",
    "    all_info['Body']=get_body(soup)\n",
    "    all_info['Link']=link\n",
    "    book.append(all_info)\n",
    "    num+=1\n",
    "    time.sleep(0.5)\n",
    "#     print(num, link)"
   ]
  },
  {
   "cell_type": "code",
   "execution_count": 7,
   "metadata": {},
   "outputs": [
    {
     "data": {
      "text/plain": [
       "433"
      ]
     },
     "execution_count": 7,
     "metadata": {},
     "output_type": "execute_result"
    }
   ],
   "source": [
    "len(book)"
   ]
  }
 ],
 "metadata": {
  "kernelspec": {
   "display_name": "Python 3 (ipykernel)",
   "language": "python",
   "name": "python3"
  },
  "language_info": {
   "codemirror_mode": {
    "name": "ipython",
    "version": 3
   },
   "file_extension": ".py",
   "mimetype": "text/x-python",
   "name": "python",
   "nbconvert_exporter": "python",
   "pygments_lexer": "ipython3",
   "version": "3.10.4"
  }
 },
 "nbformat": 4,
 "nbformat_minor": 4
}
